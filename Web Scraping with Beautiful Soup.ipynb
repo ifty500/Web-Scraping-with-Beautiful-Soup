{
 "cells": [
  {
   "cell_type": "markdown",
   "metadata": {},
   "source": [
    "# Introduction\n",
    "Before we get started, a quick note on prerequisites: This course requires knowledge of Python. Also some understanding of the Python library Pandas will be helpful later on in the lesson, but isn’t totally necessary. If you haven’t already, check out those courses before taking this one. Okay, let’s get scraping!\n",
    "\n",
    "In Data Science, we can do a lot of exciting work with the right dataset. Once we have interesting data, we can use Pandas or Matplotlib to analyze or visualize trends. But how do we get that data in the first place?\n",
    "\n",
    "If it’s provided to us in a well-organized csv or json file, we’re lucky! Most of the time, we need to go out and search for it ourselves.\n",
    "\n",
    "Often times you’ll find the perfect website that has all the data you need, but there’s no way to download it. This is where BeautifulSoup comes in handy to scrape the HTML. If we find the data we want to analyze online, we can use BeautifulSoup to grab it and turn it into a structure we can understand. This Python library, which takes its name from a song in Alice in Wonderland, allows us to easily and quickly take information from a website and put it into a DataFrame."
   ]
  },
  {
   "cell_type": "code",
   "execution_count": null,
   "metadata": {},
   "outputs": [],
   "source": []
  },
  {
   "cell_type": "markdown",
   "metadata": {},
   "source": [
    "# Rules of Scraping\n",
    "When we scrape websites, we have to make sure we are following some guidelines so that we are treating the websites and their owners with respect.\n",
    "\n",
    "Always check a website’s Terms and Conditions before scraping. Read the statement on the legal use of data. Usually, the data you scrape should not be used for commercial purposes.\n",
    "\n",
    "Do not spam the website with a ton of requests. A large number of requests can break a website that is unprepared for that level of traffic. As a general rule of good practice, make one request to one webpage per second.\n",
    "\n",
    "If the layout of the website changes, you will have to change your scraping code to follow the new structure of the site."
   ]
  },
  {
   "cell_type": "code",
   "execution_count": null,
   "metadata": {},
   "outputs": [],
   "source": []
  },
  {
   "cell_type": "markdown",
   "metadata": {},
   "source": [
    "Requests\n",
    "In order to get the HTML of the website, we need to make a request to get the content of the webpage. To learn more about requests in a general sense, you can check out this article.\n",
    "\n",
    "Python has a requests library that makes getting content really easy. All we have to do is import the library, and then feed in the URL we want to GET:\n",
    "\n",
    "    import requests\n",
    "\n",
    "    webpage = requests.get('https://www.codecademy.com/articles/http-requests')\n",
    "    print(webpage.text)\n",
    "\n",
    "This code will print out the HTML of the page.\n",
    "\n",
    "\n",
    "We don’t want to unleash a bunch of requests on any one website in this lesson, so for the rest of this lesson we will be scraping a local HTML file and pretending it’s an HTML file hosted online."
   ]
  },
  {
   "cell_type": "code",
   "execution_count": 2,
   "metadata": {},
   "outputs": [
    {
     "name": "stdout",
     "output_type": "stream",
     "text": [
      "b'<!DOCTYPE html>\\n<html>\\n  <head>\\n    <meta charset=\"utf-8\">\\n    <title>Turtle Shellter</title>\\n      <link href=\"https://fonts.googleapis.com/css?family=Poppins\" rel=\"stylesheet\">\\n      <link rel=\\'stylesheet\\' type=\\'text/css\\' href=\\'style.css\\'>\\n  </head>\\n\\n  <body>\\n      <div class=\"banner\">\\n        <h1>The Shellter</h1>\\n        <span class=\"brag\">The #1 Turtle Adoption website!</span>\\n      </div>\\n\\n      <div class=\"about\">\\n        <p class=\"text\">Click to learn more about each turtle</p>\\n      </div>\\n\\n    <div class=\"grid\">\\n      <div class=\"box adopt\">\\n          <a href=\"aesop.html\" class=\"more-info\"><img src=\"aesop.png\" class=\"headshot\"></a>\\n          <p>Aesop</p>\\n      </div>\\n\\n      <div class=\"box adopt\">\\n          <a href=\"caesar.html\" class=\"more-info\"><img src=\"caesar.png\" class=\"headshot\"></a>\\n          <p>Caesar</p>\\n      </div>\\n\\n      <div class=\"box adopt\">\\n          <a href=\"sulla.html\" class=\"more-info\"><img src=\"sulla.png\" class=\"headshot\"></a>\\n          <p>Sulla</p>\\n      </div>\\n      <div class=\"box adopt\">\\n          <a href=\"spyro.html\" class=\"more-info\"><img src=\"spyro.png\" class=\"headshot\"></a>\\n          <p>Spyro</p>\\n      </div>\\n\\n      <div class=\"box adopt\">\\n          <a href=\"zelda.html\" class=\"more-info\"><img src=\"zelda.png\" class=\"headshot\"></a>\\n          <p>Zelda</p>\\n      </div>\\n\\n      <div class=\"box adopt\">\\n          <a href=\"bandicoot.html\" class=\"more-info\"><img src=\"bandicoot.png\" class=\"headshot\"></a>\\n          <p>Bandicoot</p>\\n      </div>\\n      \\n      <div class=\"box adopt\">\\n          <a href=\"hal.html\" class=\"more-info\"><img src=\"hal.png\" class=\"headshot\"></a>\\n          <p>Hal</p>\\n      </div>\\n\\n      <div class=\"box adopt\">\\n          <a href=\"mock.html\" class=\"more-info\"><img src=\"mock.png\" class=\"headshot\"></a>\\n          <p>Mock</p>\\n      </div>\\n\\n      <div class=\"box adopt\">\\n          <a href=\"sparrow.html\" class=\"more-info\"><img src=\"sparrow.png\" class=\"headshot\"></a>\\n          <p>Captain Sparrow</p>\\n      </div>\\n    </div>\\n  </body>\\n\\n</html>\\n'\n"
     ]
    }
   ],
   "source": [
    "import requests\n",
    "\n",
    "webpage_response = requests.get('https://s3.amazonaws.com/codecademy-content/courses/beautifulsoup/shellter.html')\n",
    "\n",
    "\"\"\"Store the content of the response in a variable called webpage by using .content.\n",
    "\n",
    "Print webpage out to see the content of this HTML.\"\"\"\n",
    "\n",
    "webpage = webpage_response.content\n",
    "\n",
    "print(webpage)"
   ]
  },
  {
   "cell_type": "code",
   "execution_count": null,
   "metadata": {},
   "outputs": [],
   "source": []
  },
  {
   "cell_type": "markdown",
   "metadata": {},
   "source": [
    "# The BeautifulSoup Object\n",
    "When we printed out all of that HTML from our request, it seemed pretty long and messy. How could we pull out the relevant information from that long string?\n",
    "\n",
    "BeautifulSoup is a Python library that makes it easy for us to traverse an HTML page and pull out the parts we’re interested in. We can import it by using the line:\n",
    "\n",
    "    from bs4 import BeautifulSoup\n",
    "Then, all we have to do is convert the HTML document to a BeautifulSoup object!\n",
    "\n",
    "If this is our HTML file, rainbow.html:\n",
    "\n",
    "    <body>\n",
    "      <div>red</div>\n",
    "      <div>orange</div>\n",
    "      <div>yellow</div>\n",
    "      <div>green</div>\n",
    "      <div>blue</div>\n",
    "      <div>indigo</div>\n",
    "      <div>violet</div>\n",
    "    </body>\n",
    "    soup = BeautifulSoup(\"rainbow.html\", \"html.parser\")\n",
    "    \n",
    "\"html.parser\" is one option for parsers we could use. There are other options, like \"lxml\" and \"html5lib\" that have different advantages and disadvantages, but for our purposes we will be using \"html.parser\" throughout.\n",
    "\n",
    "With the requests skills we just learned, we can use a website hosted online as that HTML:\n",
    "\n",
    "    webpage = requests.get(\"http://rainbow.com/rainbow.html\", \"html.parser\")\n",
    "    soup = BeautifulSoup(webpage.content)\n",
    "    \n",
    "When we use BeautifulSoup in combination with pandas, we can turn websites into DataFrames that are easy to manipulate and gain insights from."
   ]
  },
  {
   "cell_type": "markdown",
   "metadata": {},
   "source": [
    "# Instructions\n",
    "1.\n",
    "Import the BeautifulSoup package.\n",
    "\n",
    "\n",
    "2.\n",
    "Create a BeautifulSoup object out of the webpage content and call it soup. Use \"html.parser\" as the parser.\n",
    "\n",
    "Print out soup! Look at how it contains all of the HTML of the page! We will learn how to traverse this content and find what we need in the next exercises."
   ]
  },
  {
   "cell_type": "code",
   "execution_count": 3,
   "metadata": {},
   "outputs": [
    {
     "name": "stdout",
     "output_type": "stream",
     "text": [
      "<!DOCTYPE html>\n",
      "\n",
      "<html>\n",
      "<head>\n",
      "<meta charset=\"utf-8\"/>\n",
      "<title>Turtle Shellter</title>\n",
      "<link href=\"https://fonts.googleapis.com/css?family=Poppins\" rel=\"stylesheet\"/>\n",
      "<link href=\"style.css\" rel=\"stylesheet\" type=\"text/css\"/>\n",
      "</head>\n",
      "<body>\n",
      "<div class=\"banner\">\n",
      "<h1>The Shellter</h1>\n",
      "<span class=\"brag\">The #1 Turtle Adoption website!</span>\n",
      "</div>\n",
      "<div class=\"about\">\n",
      "<p class=\"text\">Click to learn more about each turtle</p>\n",
      "</div>\n",
      "<div class=\"grid\">\n",
      "<div class=\"box adopt\">\n",
      "<a class=\"more-info\" href=\"aesop.html\"><img class=\"headshot\" src=\"aesop.png\"/></a>\n",
      "<p>Aesop</p>\n",
      "</div>\n",
      "<div class=\"box adopt\">\n",
      "<a class=\"more-info\" href=\"caesar.html\"><img class=\"headshot\" src=\"caesar.png\"/></a>\n",
      "<p>Caesar</p>\n",
      "</div>\n",
      "<div class=\"box adopt\">\n",
      "<a class=\"more-info\" href=\"sulla.html\"><img class=\"headshot\" src=\"sulla.png\"/></a>\n",
      "<p>Sulla</p>\n",
      "</div>\n",
      "<div class=\"box adopt\">\n",
      "<a class=\"more-info\" href=\"spyro.html\"><img class=\"headshot\" src=\"spyro.png\"/></a>\n",
      "<p>Spyro</p>\n",
      "</div>\n",
      "<div class=\"box adopt\">\n",
      "<a class=\"more-info\" href=\"zelda.html\"><img class=\"headshot\" src=\"zelda.png\"/></a>\n",
      "<p>Zelda</p>\n",
      "</div>\n",
      "<div class=\"box adopt\">\n",
      "<a class=\"more-info\" href=\"bandicoot.html\"><img class=\"headshot\" src=\"bandicoot.png\"/></a>\n",
      "<p>Bandicoot</p>\n",
      "</div>\n",
      "<div class=\"box adopt\">\n",
      "<a class=\"more-info\" href=\"hal.html\"><img class=\"headshot\" src=\"hal.png\"/></a>\n",
      "<p>Hal</p>\n",
      "</div>\n",
      "<div class=\"box adopt\">\n",
      "<a class=\"more-info\" href=\"mock.html\"><img class=\"headshot\" src=\"mock.png\"/></a>\n",
      "<p>Mock</p>\n",
      "</div>\n",
      "<div class=\"box adopt\">\n",
      "<a class=\"more-info\" href=\"sparrow.html\"><img class=\"headshot\" src=\"sparrow.png\"/></a>\n",
      "<p>Captain Sparrow</p>\n",
      "</div>\n",
      "</div>\n",
      "</body>\n",
      "</html>\n",
      "\n"
     ]
    }
   ],
   "source": [
    "import requests\n",
    "from bs4 import BeautifulSoup \n",
    "webpage_response = requests.get('https://s3.amazonaws.com/codecademy-content/courses/beautifulsoup/shellter.html')\n",
    "\n",
    "webpage = webpage_response.content\n",
    "\n",
    "soup = BeautifulSoup(webpage,\"html.parser\")\n",
    "print(soup)\n"
   ]
  },
  {
   "cell_type": "code",
   "execution_count": null,
   "metadata": {},
   "outputs": [],
   "source": []
  },
  {
   "cell_type": "markdown",
   "metadata": {},
   "source": [
    "# Object Types\n",
    "BeautifulSoup breaks the HTML page into several types of objects.\n",
    "\n",
    "### Tags\n",
    "A Tag corresponds to an HTML Tag in the original document. These lines of code:\n",
    "\n",
    "    soup = BeautifulSoup('<div id=\"example\">An example div</div><p>An example p tag</p>')\n",
    "    print(soup.div)\n",
    "\n",
    "Would produce output that looks like:\n",
    "\n",
    "    \n",
    "    <div id=\"example\">An example div</div>\n",
    "\n",
    "Accessing a tag from the BeautifulSoup object in this way will get the first tag of that type on the page.\n",
    "\n",
    "You can get the name of the tag using .name and a dictionary representing the attributes of the tag using .attrs:\n",
    "\n",
    "    print(soup.div.name)\n",
    "    print(soup.div.attrs)\n",
    "    \n",
    "    div\n",
    "    {'id': 'example'}\n",
    "    \n",
    "### NavigableStrings\n",
    "NavigableStrings are the pieces of text that are in the HTML tags on the page. You can get the string inside of the tag by calling .string:\n",
    "\n",
    "    print(soup.div.string)\n",
    "    An example div"
   ]
  },
  {
   "cell_type": "markdown",
   "metadata": {},
   "source": [
    "# Instructions\n",
    "1.\n",
    "Print out the first p tag on the shellter.html page.\n",
    "\n",
    "\n",
    "2.\n",
    "Print out the string associated with the first p tag on the shellter.html page."
   ]
  },
  {
   "cell_type": "code",
   "execution_count": 4,
   "metadata": {},
   "outputs": [
    {
     "name": "stdout",
     "output_type": "stream",
     "text": [
      "<p class=\"text\">Click to learn more about each turtle</p>\n",
      "Click to learn more about each turtle\n"
     ]
    }
   ],
   "source": [
    "import requests\n",
    "from bs4 import BeautifulSoup\n",
    "\n",
    "webpage_response = requests.get('https://s3.amazonaws.com/codecademy-content/courses/beautifulsoup/shellter.html')\n",
    "\n",
    "webpage = webpage_response.content\n",
    "soup = BeautifulSoup(webpage, \"html.parser\")\n",
    "\n",
    "print(soup.p)\n",
    "print(soup.p.string)\n",
    "\n"
   ]
  },
  {
   "cell_type": "code",
   "execution_count": null,
   "metadata": {},
   "outputs": [],
   "source": []
  },
  {
   "cell_type": "markdown",
   "metadata": {},
   "source": [
    "# Navigating by Tags\n",
    "To navigate through a tree, we can call the tag names themselves. Imagine we have an HTML page that looks like this:\n",
    "\n",
    "    <h1>World's Best Chocolate Chip Cookies</h1>\n",
    "    <div class=\"banner\">\n",
    "      <h1>Ingredients</h1>\n",
    "    </div>\n",
    "    <ul>\n",
    "      <li> 1 cup flour </li>\n",
    "      <li> 1/2 cup sugar </li>\n",
    "      <li> 2 tbsp oil </li>\n",
    "      <li> 1/2 tsp baking soda </li>\n",
    "      <li> ½ cup chocolate chips </li> \n",
    "      <li> 1/2 tsp vanilla <li>\n",
    "      <li> 2 tbsp milk </li>\n",
    "    </ul>\n",
    "    \n",
    "If we made a soup object out of this HTML page, we have seen that we can get the first h1 element by calling:\n",
    "\n",
    "    print(soup.h1)\n",
    "    \n",
    "    <h1>World's Best Chocolate Chip Cookies</h1>\n",
    "    \n",
    "We can get the children of a tag by accessing the .children attribute:\n",
    "\n",
    "    for child in soup.ul.children:\n",
    "        print(child)\n",
    "    <li> 1 cup flour </li>\n",
    "    <li> 1/2 cup sugar </li>\n",
    "    <li> 2 tbsp oil </li>\n",
    "    <li> 1/2 tsp baking soda </li>\n",
    "    <li> ½ cup chocolate chips </li> \n",
    "    <li> 1/2 tsp vanilla <li>\n",
    "    <li> 2 tbsp milk </li>\n",
    "We can also navigate up the tree of a tag by accessing the .parents attribute:\n",
    "\n",
    "    for parent in soup.li.parents:\n",
    "        print(parent)\n",
    "        \n",
    "This loop will first print:\n",
    "\n",
    "    <ul>\n",
    "    <li> 1 cup flour </li>\n",
    "    <li> 1/2 cup sugar </li>\n",
    "    <li> 2 tbsp oil </li>\n",
    "    <li> 1/2 tsp baking soda </li>\n",
    "    <li> ½ cup chocolate chips </li>\n",
    "    <li> 1/2 tsp vanilla </li>\n",
    "    <li> 2 tbsp milk </li>\n",
    "    </ul>\n",
    "    \n",
    "Then, it will print the tag that contains the ul (so, the body tag of the document). Then, it will print the tag that contains the body tag (so, the html tag of the document)."
   ]
  },
  {
   "cell_type": "code",
   "execution_count": 5,
   "metadata": {},
   "outputs": [
    {
     "name": "stdout",
     "output_type": "stream",
     "text": [
      "\n",
      "\n",
      "<h1>The Shellter</h1>\n",
      "\n",
      "\n",
      "<span class=\"brag\">The #1 Turtle Adoption website!</span>\n",
      "\n",
      "\n"
     ]
    }
   ],
   "source": [
    "# Loop through all of the children of the first div and print out each one.\n",
    "\n",
    "import requests\n",
    "from bs4 import BeautifulSoup\n",
    "\n",
    "webpage_response = requests.get('https://s3.amazonaws.com/codecademy-content/courses/beautifulsoup/shellter.html')\n",
    "\n",
    "webpage = webpage_response.content\n",
    "soup = BeautifulSoup(webpage, \"html.parser\")\n",
    "\n",
    "for child in soup.div.children:\n",
    "  print(child)"
   ]
  },
  {
   "cell_type": "code",
   "execution_count": null,
   "metadata": {},
   "outputs": [],
   "source": []
  },
  {
   "cell_type": "markdown",
   "metadata": {},
   "source": [
    "# Website Structure\n",
    "When we’re telling our Python script what HTML tags to grab, we need to know the structure of the website and what we’re looking for.\n",
    "\n",
    "Many browsers, including Chrome, Firefox, and Safari, have Dev Tools that help you inspect a webpage and see what HTML elements it is composed of.\n",
    "\n",
    "First, learn how to use DevTools.\n",
    "\n",
    "Then, when you’re preparing to scrape a website, first inspect the HTML to see where the info you are looking for is located on the page."
   ]
  },
  {
   "cell_type": "code",
   "execution_count": null,
   "metadata": {},
   "outputs": [],
   "source": []
  },
  {
   "cell_type": "code",
   "execution_count": null,
   "metadata": {},
   "outputs": [],
   "source": []
  },
  {
   "cell_type": "markdown",
   "metadata": {},
   "source": [
    "# Find All\n",
    "If we want to find all of the occurrences of a tag, instead of just the first one, we can use .find_all().\n",
    "\n",
    "This function can take in just the name of a tag and returns a list of all occurrences of that tag.\n",
    "\n",
    "    print(soup.find_all(\"h1\"))\n",
    "    \n",
    "    ['<h1>World's Best Chocolate Chip Cookies</h1>', '<h1>Ingredients</h1>']\n",
    "\n",
    "* .find_all() is far more flexible than just accessing elements directly through the soup object. With .find_all(), we can use regexes, attributes, or even functions to select HTML elements more intelligently.\n",
    "\n",
    "### Using Regex\n",
    "What if we want every <ol> and every <ul> that the page contains? We can select both of these types of elements with a regex in our .find_all():\n",
    "\n",
    "    import re\n",
    "    soup.find_all(re.compile(\"[ou]l\"))\n",
    "    \n",
    "What if we want all of the h1 - h9 tags that the page contains? Regex to the rescue again!\n",
    "\n",
    "    import re\n",
    "    soup.find_all(re.compile(\"h[1-9]\"))\n",
    "    \n",
    "### Using Lists\n",
    "We can also just specify all of the elements we want to find by supplying the function with a list of the tag names we are looking for:\n",
    "\n",
    "    soup.find_all(['h1', 'a', 'p'])\n",
    "\n",
    "### Using Attributes\n",
    "We can also try to match the elements with relevant attributes. We can pass a dictionary to the attrs parameter of find_all with the desired attributes of the elements we’re looking for. If we want to find all of the elements with the \"banner\" class, for example, we could use the command:\n",
    "\n",
    "    soup.find_all(attrs={'class':'banner'})\n",
    "    \n",
    "Or, we can specify multiple different attributes! What if we wanted a tag with a \"banner\" class and the id \"jumbotron\"?\n",
    "\n",
    "    soup.find_all(attrs={'class':'banner', 'id':'jumbotron'})\n",
    "\n",
    "### Using A Function\n",
    "If our selection starts to get really complicated, we can separate out all of the logic that we’re using to choose a tag into its own function. Then, we can pass that function into .find_all()!\n",
    "\n",
    "    def has_banner_class_and_hello_world(tag):\n",
    "        return tag.attr('class') == \"banner\" and tag.string == \"Hello world\"\n",
    "\n",
    "    soup.find_all(has_banner_class_and_hello_world)\n",
    "    \n",
    "This command would find an element that looks like this:\n",
    "\n",
    "    <div class=\"banner\">Hello world</div>\n",
    "    \n",
    "but not an element that looks like this:\n",
    "\n",
    "    <div>Hello world</div>\n",
    "    \n",
    "Or this:\n",
    "\n",
    "    <div class=\"banner\">What's up, world!</div>"
   ]
  },
  {
   "cell_type": "markdown",
   "metadata": {},
   "source": [
    "# Instructions\n",
    "1.\n",
    "Find all of the a elements on the page and store them in a list called turtle_links.\n",
    "\n",
    "\n",
    "2.\n",
    "Print turtle_links. Is this what you expected?"
   ]
  },
  {
   "cell_type": "code",
   "execution_count": 6,
   "metadata": {},
   "outputs": [
    {
     "name": "stdout",
     "output_type": "stream",
     "text": [
      "[<a class=\"more-info\" href=\"aesop.html\"><img class=\"headshot\" src=\"aesop.png\"/></a>, <a class=\"more-info\" href=\"caesar.html\"><img class=\"headshot\" src=\"caesar.png\"/></a>, <a class=\"more-info\" href=\"sulla.html\"><img class=\"headshot\" src=\"sulla.png\"/></a>, <a class=\"more-info\" href=\"spyro.html\"><img class=\"headshot\" src=\"spyro.png\"/></a>, <a class=\"more-info\" href=\"zelda.html\"><img class=\"headshot\" src=\"zelda.png\"/></a>, <a class=\"more-info\" href=\"bandicoot.html\"><img class=\"headshot\" src=\"bandicoot.png\"/></a>, <a class=\"more-info\" href=\"hal.html\"><img class=\"headshot\" src=\"hal.png\"/></a>, <a class=\"more-info\" href=\"mock.html\"><img class=\"headshot\" src=\"mock.png\"/></a>, <a class=\"more-info\" href=\"sparrow.html\"><img class=\"headshot\" src=\"sparrow.png\"/></a>]\n"
     ]
    }
   ],
   "source": [
    "import requests\n",
    "from bs4 import BeautifulSoup\n",
    "\n",
    "webpage_response = requests.get('https://s3.amazonaws.com/codecademy-content/courses/beautifulsoup/shellter.html')\n",
    "\n",
    "webpage = webpage_response.content\n",
    "soup = BeautifulSoup(webpage, \"html.parser\")\n",
    "\n",
    "turtle_links = soup.find_all('a')\n",
    "print(turtle_links)\n"
   ]
  },
  {
   "cell_type": "code",
   "execution_count": null,
   "metadata": {},
   "outputs": [],
   "source": []
  },
  {
   "cell_type": "code",
   "execution_count": null,
   "metadata": {},
   "outputs": [],
   "source": []
  },
  {
   "cell_type": "markdown",
   "metadata": {},
   "source": [
    "# Select for CSS Selectors\n",
    "Another way to capture your desired elements with the soup object is to use CSS selectors. The .select() method will take in all of the CSS selectors you normally use in a .css file!\n",
    "\n",
    "    <h1 class='results'>Search Results for: <span class='searchTerm'>Funfetti</span></h1>\n",
    "    <div class='recipeLink'><a href=\"spaghetti.html\">Funfetti Spaghetti</a></div>\n",
    "    <div class='recipeLink' id=\"selected\"><a href=\"lasagna.html\">Lasagna de Funfetti</a></div>\n",
    "    <div class='recipeLink'><a href=\"cupcakes.html\">Funfetti Cupcakes</a></div>\n",
    "    <div class='recipeLink'><a href=\"pie.html\">Pecan Funfetti Pie</a></div>\n",
    "    \n",
    "If we wanted to select all of the elements that have the class 'recipeLink', we could use the command:\n",
    "\n",
    "    soup.select(\".recipeLink\")\n",
    "    \n",
    "If we wanted to select the element that has the id 'selected', we could use the command:\n",
    "\n",
    "    soup.select(\"#selected\")\n",
    "    \n",
    "Let’s say we wanted to loop through all of the links to these funfetti recipes that we found from our search.\n",
    "\n",
    "    for link in soup.select(\".recipeLink > a\"):\n",
    "      webpage = requests.get(link)\n",
    "      new_soup = BeautifulSoup(webpage)\n",
    "      \n",
    "This loop will go through each link in each .recipeLink div and create a soup object out of the webpage it links to. So, it would first make soup out of <a href=\"spaghetti.html\">Funfetti Spaghetti</a>, then <a href=\"lasagna.html\">Lasagna de Funfetti</a>, and so on."
   ]
  },
  {
   "cell_type": "markdown",
   "metadata": {},
   "source": [
    "# Instructions\n",
    "1.\n",
    "We have taken the links you found in the last exercise and turned them into links we can follow by prepending a prefix to them.\n",
    "\n",
    "Now, we’re looping through each of the links on the home page and following them to learn more about each turtle!\n",
    "\n",
    "We are going to want to store information about each turtle in a dictionary called turtle_data.\n",
    "\n",
    "First, before the loop that goes through the turtle_links, create an empty dictionary called turtle_data.\n",
    "\n",
    "\n",
    "2.\n",
    "Now, let’s fill in some data from each turtle. Inside the loop that iterates through links, you’ll see that we’ve created a BeautifulSoup object out of each individual turtle’s page.\n",
    "\n",
    "You can click on a turtle in the web browser to see how an individual turtle’s page looks. What kind of information from this page might we want to store?\n",
    "\n",
    "\n",
    "3.\n",
    "If you used your Inspector tools to look at the turtle’s page, you might have seen that the turtle’s name is in a p tag with the class name.\n",
    "\n",
    "Inside the loop, use .select() to select the tags with class name. Store the first entry of that list in a variable called turtle_name.\n",
    "\n",
    "Add turtle_name to the dictionary as a key, and for now set the value of that key to an empty list."
   ]
  },
  {
   "cell_type": "code",
   "execution_count": 7,
   "metadata": {},
   "outputs": [
    {
     "name": "stdout",
     "output_type": "stream",
     "text": [
      "{<p class=\"name\">Aesop</p>: [], <p class=\"name\">Caesar</p>: [], <p class=\"name\">Sulla</p>: [], <p class=\"name\">Spyro</p>: [], <p class=\"name\">Zelda</p>: [], <p class=\"name\">Bandicoot</p>: [], <p class=\"name\">Hal</p>: [], <p class=\"name\">Mock</p>: [], <p class=\"name\">Sparrow</p>: []}\n"
     ]
    }
   ],
   "source": [
    "import requests\n",
    "from bs4 import BeautifulSoup\n",
    "\n",
    "prefix = \"https://s3.amazonaws.com/codecademy-content/courses/beautifulsoup/\"\n",
    "webpage_response = requests.get('https://s3.amazonaws.com/codecademy-content/courses/beautifulsoup/shellter.html')\n",
    "\n",
    "webpage = webpage_response.content\n",
    "soup = BeautifulSoup(webpage, \"html.parser\")\n",
    "\n",
    "turtle_links = soup.find_all(\"a\")\n",
    "links = []\n",
    "#go through all of the a tags and get the links associated with them:\n",
    "for a in turtle_links:\n",
    "  links.append(prefix+a[\"href\"])\n",
    "    \n",
    "#Define turtle_data:\n",
    "turtle_data = {}\n",
    "\n",
    "#follow each link:\n",
    "for link in links:\n",
    "  webpage = requests.get(link)\n",
    "  turtle = BeautifulSoup(webpage.content, \"html.parser\")\n",
    "  #Add your code here:\n",
    "  turtle_name = turtle.select(\".name\")[0]\n",
    "  turtle_data[turtle_name] = []\n",
    "  \n",
    "print(turtle_data)"
   ]
  },
  {
   "cell_type": "code",
   "execution_count": null,
   "metadata": {},
   "outputs": [],
   "source": []
  },
  {
   "cell_type": "markdown",
   "metadata": {},
   "source": [
    "# Reading Text\n",
    "When we use BeautifulSoup to select HTML elements, we often want to grab the text inside of the element, so that we can analyze it. We can use .get_text() to retrieve the text inside of whatever tag we want to call it on.\n",
    "\n",
    "    <h1 class=\"results\">Search Results for: <span class='searchTerm'>Funfetti</span></h1>\n",
    "    \n",
    "If this is the HTML that has been used to create the soup object, we can make the call:\n",
    "\n",
    "    soup.get_text()\n",
    "    \n",
    "Which will return:\n",
    "\n",
    "    'Search Results for: Funfetti'\n",
    "\n",
    "Notice that this combined the text inside of the outer h1 tag with the text contained in the span tag inside of it! Using get_text(), it looks like both of these strings are part of just one longer string. If we wanted to separate out the texts from different tags, we could specify a separator character. This command would use a . character to separate:\n",
    "\n",
    "    soup.get_text('|')\n",
    "    \n",
    "Now, the command returns:\n",
    "\n",
    "    'Search Results for: |Funfetti'"
   ]
  },
  {
   "cell_type": "markdown",
   "metadata": {},
   "source": [
    "# Instructions\n",
    "1.\n",
    "After the loop, print out turtle_data. We have been storing the names as the whole p tag containing the name.\n",
    "\n",
    "Instead, let’s call get_text() on the turtle_name element and store the result as the key of our dictionary instead.\n",
    "\n",
    "\n",
    "\n",
    "\n",
    "2.\n",
    "Instead of associating each turtle with an empty list, let’s have each turtle associated with a list of the stats that are available on their page.\n",
    "\n",
    "It looks like each piece of information is in a li element on the turtle’s page.\n",
    "\n",
    "Get the ul element on the page, and get all of the text in it, separated by a '|' character so that we can easily split out each attribute later.\n",
    "\n",
    "Store the resulting string in turtle_data[turtle_name] instead of storing an empty list there.\n",
    "\n",
    "\n",
    "\n",
    "\n",
    "3.\n",
    "When we store the list of info in each turtle_data[turtle_name], separate out each list element again by splitting on '|'."
   ]
  },
  {
   "cell_type": "code",
   "execution_count": 9,
   "metadata": {},
   "outputs": [
    {
     "name": "stdout",
     "output_type": "stream",
     "text": [
      "{'Aesop': ['\\n', 'AGE: 7 Years Old', '\\n', 'WEIGHT: 6 lbs', '\\n', 'SEX: Female', '\\n', 'BREED: African Aquatic Sideneck Turtle', '\\n', 'SOURCE: found in Lake Erie', '\\n'], 'Caesar': ['\\n', 'AGE: 2 Years Old', '\\n', 'WEIGHT: 4 lbs', '\\n', 'SEX: Male', '\\n', 'BREED: Greek Tortoise', '\\n', 'SOURCE: hatched in house', '\\n'], 'Sulla': ['\\n', 'AGE: 1 Year Old', '\\n', 'WEIGHT: 1 lb', '\\n', 'SEX: Male', '\\n', 'BREED: African Aquatic Sideneck Turtle', '\\n', 'SOURCE: found in Lake Erie', '\\n'], 'Spyro': ['\\n', 'AGE: 6 Years Old', '\\n', 'WEIGHT: 3 lbs', '\\n', 'SEX: Female', '\\n', 'BREED: Greek Tortoise', '\\n', 'SOURCE: hatched in house', '\\n'], 'Zelda': ['\\n', 'AGE: 3 Years Old', '\\n', 'WEIGHT: 2 lbs', '\\n', 'SEX: Female', '\\n', 'BREED: Eastern Box Turtle', '\\n', 'SOURCE: surrendered by owner', '\\n'], 'Bandicoot': ['\\n', 'AGE: 2 Years Old', '\\n', 'WEIGHT: 2 lbs', '\\n', 'SEX: Male', '\\n', 'BREED: African Aquatic Sideneck Turtle', '\\n', 'SOURCE: hatched in house', '\\n'], 'Hal': ['\\n', 'AGE: 1 Year Old', '\\n', 'WEIGHT: 1.5 lbs', '\\n', 'SEX: Female', '\\n', 'BREED: Eastern Box Turtle', '\\n', 'SOURCE: surrendered by owner', '\\n'], 'Mock': ['\\n', 'AGE: 10 Years Old', '\\n', 'WEIGHT: 10 lbs', '\\n', 'SEX: Male', '\\n', 'BREED: Greek Tortoise', '\\n', 'SOURCE: surrendered by owner', '\\n'], 'Sparrow': ['\\n', 'AGE: 1.5 Years Old', '\\n', 'WEIGHT: 4.5 lbs', '\\n', 'SEX: Female', '\\n', 'BREED: African Aquatic Sideneck Turtle', '\\n', 'SOURCE: found in Lake Erie', '\\n']}\n"
     ]
    }
   ],
   "source": [
    "import requests\n",
    "from bs4 import BeautifulSoup\n",
    "\n",
    "prefix = \"https://s3.amazonaws.com/codecademy-content/courses/beautifulsoup/\"\n",
    "webpage_response = requests.get('https://s3.amazonaws.com/codecademy-content/courses/beautifulsoup/shellter.html')\n",
    "\n",
    "webpage = webpage_response.content\n",
    "soup = BeautifulSoup(webpage, \"html.parser\")\n",
    "\n",
    "turtle_links = soup.find_all(\"a\")\n",
    "links = []\n",
    "#go through all of the a tags and get the links associated with them\"\n",
    "for a in turtle_links:\n",
    "  links.append(prefix+a[\"href\"])\n",
    "    \n",
    "#Define turtle_data:\n",
    "turtle_data = {}\n",
    "\n",
    "#follow each link:\n",
    "for link in links:\n",
    "  webpage = requests.get(link)\n",
    "  turtle = BeautifulSoup(webpage.content, \"html.parser\")\n",
    "  turtle_name = turtle.select(\".name\")[0].get_text()\n",
    "  \n",
    "  stats = turtle.find(\"ul\")\n",
    "  stats_text = stats.get_text(\"|\")\n",
    "  turtle_data[turtle_name] = stats_text.split(\"|\")\n",
    "\n",
    "print(turtle_data)"
   ]
  },
  {
   "cell_type": "code",
   "execution_count": null,
   "metadata": {},
   "outputs": [],
   "source": []
  },
  {
   "cell_type": "markdown",
   "metadata": {},
   "source": [
    "# Review\n",
    "Amazing! Now you know the basics of how to use BeautifulSoup to turn websites into data. If you take our Data Visualization or Data Manipulation courses, you can see how you might analyze this data and find patterns!\n",
    "\n",
    "You now can see how far the rabbit hole goes by finding some interesting data you want to analyze on the web. But remember to be respectful to site owners if you test out your scraping chops on real sites."
   ]
  },
  {
   "cell_type": "code",
   "execution_count": null,
   "metadata": {},
   "outputs": [],
   "source": []
  },
  {
   "cell_type": "markdown",
   "metadata": {},
   "source": [
    "# Instructions\n",
    "1.\n",
    "Create a DataFrame out of the turtle_data dictionary you’ve created. Call it turtle_df.\n",
    "\n",
    "\n",
    "2.\n",
    "Wow! Now we have all of the turtles’ information in one DataFrame. But obviously, in just scraping this data and plopping it into Pandas, we’re left with a pretty messy DataFrame.\n",
    "\n",
    "There are newlines in the data, the column names are hidden in strings in the rows, and none of the numerical data is stored as a numerical type.\n",
    "\n",
    "It would be pretty hard to create any sort of analysis on this raw data. What if we wanted to make a histogram of the ages of turtles in the Shellter?\n",
    "\n",
    "This is where Data Cleaning and Regex comes in! Try to practice what you know about data cleaning to get turtles_df into a usable state. It’s up to you to decide what “usable” means to you."
   ]
  },
  {
   "cell_type": "code",
   "execution_count": 10,
   "metadata": {},
   "outputs": [
    {
     "name": "stdout",
     "output_type": "stream",
     "text": [
      "           0                   1   2                3   4            5   6   \\\n",
      "Aesop      \\n    AGE: 7 Years Old  \\n    WEIGHT: 6 lbs  \\n  SEX: Female  \\n   \n",
      "Caesar     \\n    AGE: 2 Years Old  \\n    WEIGHT: 4 lbs  \\n    SEX: Male  \\n   \n",
      "Sulla      \\n     AGE: 1 Year Old  \\n     WEIGHT: 1 lb  \\n    SEX: Male  \\n   \n",
      "Spyro      \\n    AGE: 6 Years Old  \\n    WEIGHT: 3 lbs  \\n  SEX: Female  \\n   \n",
      "Zelda      \\n    AGE: 3 Years Old  \\n    WEIGHT: 2 lbs  \\n  SEX: Female  \\n   \n",
      "Bandicoot  \\n    AGE: 2 Years Old  \\n    WEIGHT: 2 lbs  \\n    SEX: Male  \\n   \n",
      "Hal        \\n     AGE: 1 Year Old  \\n  WEIGHT: 1.5 lbs  \\n  SEX: Female  \\n   \n",
      "Mock       \\n   AGE: 10 Years Old  \\n   WEIGHT: 10 lbs  \\n    SEX: Male  \\n   \n",
      "Sparrow    \\n  AGE: 1.5 Years Old  \\n  WEIGHT: 4.5 lbs  \\n  SEX: Female  \\n   \n",
      "\n",
      "                                               7   8   \\\n",
      "Aesop      BREED: African Aquatic Sideneck Turtle  \\n   \n",
      "Caesar                      BREED: Greek Tortoise  \\n   \n",
      "Sulla      BREED: African Aquatic Sideneck Turtle  \\n   \n",
      "Spyro                       BREED: Greek Tortoise  \\n   \n",
      "Zelda                   BREED: Eastern Box Turtle  \\n   \n",
      "Bandicoot  BREED: African Aquatic Sideneck Turtle  \\n   \n",
      "Hal                     BREED: Eastern Box Turtle  \\n   \n",
      "Mock                        BREED: Greek Tortoise  \\n   \n",
      "Sparrow    BREED: African Aquatic Sideneck Turtle  \\n   \n",
      "\n",
      "                                     9   10  \n",
      "Aesop        SOURCE: found in Lake Erie  \\n  \n",
      "Caesar         SOURCE: hatched in house  \\n  \n",
      "Sulla        SOURCE: found in Lake Erie  \\n  \n",
      "Spyro          SOURCE: hatched in house  \\n  \n",
      "Zelda      SOURCE: surrendered by owner  \\n  \n",
      "Bandicoot      SOURCE: hatched in house  \\n  \n",
      "Hal        SOURCE: surrendered by owner  \\n  \n",
      "Mock       SOURCE: surrendered by owner  \\n  \n",
      "Sparrow      SOURCE: found in Lake Erie  \\n  \n"
     ]
    }
   ],
   "source": [
    "import requests\n",
    "from bs4 import BeautifulSoup\n",
    "import pandas as pd\n",
    "\n",
    "prefix = \"https://s3.amazonaws.com/codecademy-content/courses/beautifulsoup/\"\n",
    "webpage_response = requests.get('https://s3.amazonaws.com/codecademy-content/courses/beautifulsoup/shellter.html')\n",
    "\n",
    "webpage = webpage_response.content\n",
    "soup = BeautifulSoup(webpage, \"html.parser\")\n",
    "\n",
    "turtle_links = soup.find_all(\"a\")\n",
    "links = []\n",
    "#go through all of the a tags and get the links associated with them\"\n",
    "for a in turtle_links:\n",
    "  links.append(prefix+a[\"href\"])\n",
    "    \n",
    "#Define turtle_data:\n",
    "turtle_data = {}\n",
    "\n",
    "#follow each link:\n",
    "for link in links:\n",
    "  webpage = requests.get(link)\n",
    "  turtle = BeautifulSoup(webpage.content, \"html.parser\")\n",
    "  turtle_name = turtle.select(\".name\")[0].get_text()\n",
    "  \n",
    "  stats = turtle.find(\"ul\")\n",
    "  stats_text = stats.get_text(\"|\")\n",
    "  turtle_data[turtle_name] = stats_text.split(\"|\")\n",
    "\n",
    "turtle_df = pd.DataFrame.from_dict(turtle_data, orient='index')\n",
    "print(turtle_df)\n"
   ]
  },
  {
   "cell_type": "code",
   "execution_count": null,
   "metadata": {},
   "outputs": [],
   "source": []
  }
 ],
 "metadata": {
  "kernelspec": {
   "display_name": "Python 3",
   "language": "python",
   "name": "python3"
  },
  "language_info": {
   "codemirror_mode": {
    "name": "ipython",
    "version": 3
   },
   "file_extension": ".py",
   "mimetype": "text/x-python",
   "name": "python",
   "nbconvert_exporter": "python",
   "pygments_lexer": "ipython3",
   "version": "3.7.3"
  }
 },
 "nbformat": 4,
 "nbformat_minor": 2
}
